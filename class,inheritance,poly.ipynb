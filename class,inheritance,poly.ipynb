{
  "nbformat": 4,
  "nbformat_minor": 0,
  "metadata": {
    "colab": {
      "provenance": []
    },
    "kernelspec": {
      "name": "python3",
      "display_name": "Python 3"
    },
    "language_info": {
      "name": "python"
    }
  },
  "cells": [
    {
      "cell_type": "code",
      "source": [
        "# classes and objects"
      ],
      "metadata": {
        "id": "EcOZ5IvqXtaJ"
      },
      "execution_count": null,
      "outputs": []
    },
    {
      "cell_type": "code",
      "execution_count": 1,
      "metadata": {
        "colab": {
          "base_uri": "https://localhost:8080/"
        },
        "id": "ZQHjTvjO9v8V",
        "outputId": "9d98c557-478d-4325-e423-e67845f046f9"
      },
      "outputs": [
        {
          "output_type": "stream",
          "name": "stdout",
          "text": [
            "<class 'list'>\n"
          ]
        }
      ],
      "source": [
        "lst=[1,2,3]\n",
        "print(type(lst))\n"
      ]
    },
    {
      "cell_type": "code",
      "source": [
        "lst.count(1)"
      ],
      "metadata": {
        "colab": {
          "base_uri": "https://localhost:8080/"
        },
        "id": "3ZBhewEO_cRz",
        "outputId": "847c63c0-81a1-49a8-cec5-b6aaad1b041c"
      },
      "execution_count": 2,
      "outputs": [
        {
          "output_type": "execute_result",
          "data": {
            "text/plain": [
              "1"
            ]
          },
          "metadata": {},
          "execution_count": 2
        }
      ]
    },
    {
      "cell_type": "code",
      "source": [
        "print(type(1))\n",
        "print(type([]))\n",
        "print(type({}))\n",
        "print(type(()))\n"
      ],
      "metadata": {
        "colab": {
          "base_uri": "https://localhost:8080/"
        },
        "id": "7bgBSwy6_vHN",
        "outputId": "c939c3d8-726c-49fc-eec2-7dde47f09233"
      },
      "execution_count": 3,
      "outputs": [
        {
          "output_type": "stream",
          "name": "stdout",
          "text": [
            "<class 'int'>\n",
            "<class 'list'>\n",
            "<class 'dict'>\n",
            "<class 'tuple'>\n"
          ]
        }
      ]
    },
    {
      "cell_type": "code",
      "source": [
        "class Sample:\n",
        "  pass\n",
        "x=Sample()\n",
        "print(type(x))"
      ],
      "metadata": {
        "colab": {
          "base_uri": "https://localhost:8080/"
        },
        "id": "CEQlG3suAO-0",
        "outputId": "7ffcb8d7-11f2-4798-ca4d-68e70c9b930c"
      },
      "execution_count": 4,
      "outputs": [
        {
          "output_type": "stream",
          "name": "stdout",
          "text": [
            "<class '__main__.Sample'>\n"
          ]
        }
      ]
    },
    {
      "cell_type": "code",
      "source": [
        "class Dog:\n",
        "  def __init__(self,breed):\n",
        "     self.breed=breed\n",
        "sam=Dog(breed='lab')\n",
        "frank=Dog(breed='husky')"
      ],
      "metadata": {
        "id": "PEmjzavKBT92"
      },
      "execution_count": 5,
      "outputs": []
    },
    {
      "cell_type": "code",
      "source": [
        "sam.breed"
      ],
      "metadata": {
        "colab": {
          "base_uri": "https://localhost:8080/",
          "height": 36
        },
        "id": "vUsY_egOCez7",
        "outputId": "38caa5ce-9ebb-481e-ae61-783809778ac0"
      },
      "execution_count": 6,
      "outputs": [
        {
          "output_type": "execute_result",
          "data": {
            "text/plain": [
              "'lab'"
            ],
            "application/vnd.google.colaboratory.intrinsic+json": {
              "type": "string"
            }
          },
          "metadata": {},
          "execution_count": 6
        }
      ]
    },
    {
      "cell_type": "code",
      "source": [
        "frank.breed"
      ],
      "metadata": {
        "colab": {
          "base_uri": "https://localhost:8080/",
          "height": 36
        },
        "id": "FV1xLeIKChw5",
        "outputId": "723ea8c2-9656-42be-9e18-f4e363e8a896"
      },
      "execution_count": 7,
      "outputs": [
        {
          "output_type": "execute_result",
          "data": {
            "text/plain": [
              "'husky'"
            ],
            "application/vnd.google.colaboratory.intrinsic+json": {
              "type": "string"
            }
          },
          "metadata": {},
          "execution_count": 7
        }
      ]
    },
    {
      "cell_type": "code",
      "source": [
        "class Dog:\n",
        "   species='mamal'\n",
        "   def __init__(self,breed,name):\n",
        "     self.breed=breed\n",
        "     self.name=name\n",
        "sam=Dog('lab','husky')\n",
        "sam.name\n",
        "sam.species"
      ],
      "metadata": {
        "colab": {
          "base_uri": "https://localhost:8080/",
          "height": 36
        },
        "id": "_pdvIj1HCm3y",
        "outputId": "bba186ff-a720-4f3e-aedc-b064a676c0ba"
      },
      "execution_count": 12,
      "outputs": [
        {
          "output_type": "execute_result",
          "data": {
            "text/plain": [
              "'mamal'"
            ],
            "application/vnd.google.colaboratory.intrinsic+json": {
              "type": "string"
            }
          },
          "metadata": {},
          "execution_count": 12
        }
      ]
    },
    {
      "cell_type": "code",
      "source": [
        "class Circle:\n",
        "  pi=3.14\n",
        "\n",
        "  def __init__(self,radius=1):\n",
        "    self.radius=radius\n",
        "    self.area=radius *radius *Circle.pi\n",
        "\n",
        "  def setRadius(self,new_radius):\n",
        "    self.radius=new_radius\n",
        "    self.area=new_radius*new_radius*self.pi\n",
        "  def getCircumference(self):\n",
        "    return self.radius * self.pi *2\n",
        "\n",
        "  def getpi(cls):\n",
        "    print(\"value of pi\",cls.pi)\n",
        "  def display():\n",
        "    print('area of circle is calculated')\n",
        "\n",
        "\n",
        "c=Circle()\n",
        "Circle.getpi(Circle)\n",
        "Circle.display()\n",
        "\n",
        "print(\"radius is =\",c.radius)\n",
        "print(\"area is =\",c.area)\n",
        "print(\"circumference =\",c.getCircumference())"
      ],
      "metadata": {
        "colab": {
          "base_uri": "https://localhost:8080/"
        },
        "id": "nf6kTipjEIgi",
        "outputId": "c2bbac1c-1e38-4e8c-e238-169fa99053ab"
      },
      "execution_count": 23,
      "outputs": [
        {
          "output_type": "stream",
          "name": "stdout",
          "text": [
            "value of pi 3.14\n",
            "area of circle is calculated\n",
            "radius is = 1\n",
            "area is = 3.14\n",
            "circumference = 6.28\n"
          ]
        }
      ]
    },
    {
      "cell_type": "code",
      "source": [
        "c.setRadius(2)"
      ],
      "metadata": {
        "id": "6RFJ936yN3nW"
      },
      "execution_count": 24,
      "outputs": []
    },
    {
      "cell_type": "code",
      "source": [
        "print(\"radius is =\",c.radius)\n",
        "print(\"area is =\",c.area)\n",
        "print(\"circumference =\",c.getCircumference())"
      ],
      "metadata": {
        "colab": {
          "base_uri": "https://localhost:8080/"
        },
        "id": "fUJU8cibOtDj",
        "outputId": "94fa23bf-4ce9-4235-e25f-72197131682a"
      },
      "execution_count": 25,
      "outputs": [
        {
          "output_type": "stream",
          "name": "stdout",
          "text": [
            "radius is = 2\n",
            "area is = 12.56\n",
            "circumference = 12.56\n"
          ]
        }
      ]
    },
    {
      "cell_type": "code",
      "source": [
        "# inheritance"
      ],
      "metadata": {
        "id": "gwcflACsXpXF"
      },
      "execution_count": null,
      "outputs": []
    },
    {
      "cell_type": "code",
      "source": [
        "class Animal:\n",
        "  def __init__(self):\n",
        "    print(\"animal Created\")\n",
        "\n",
        "  def whoami(self):\n",
        "    print(\"Animal\")\n",
        "\n",
        "  def eat(self):\n",
        "    print(\"eating\")\n",
        "\n",
        "class Dog(Animal):\n",
        "  def __init__(self):\n",
        "    Animal.__init__(self)\n",
        "    print(\"dog created\")\n",
        "\n",
        "  def whoami(self):\n",
        "    print(\"dog\")\n",
        "\n",
        "  def bark(self):\n",
        "    print(\"woof\")\n",
        "\n",
        "d=Dog()\n"
      ],
      "metadata": {
        "colab": {
          "base_uri": "https://localhost:8080/"
        },
        "id": "b9EbuBOAPMUb",
        "outputId": "6a1a90ec-7ed7-4f54-d241-44dbdd677a2f"
      },
      "execution_count": 36,
      "outputs": [
        {
          "output_type": "stream",
          "name": "stdout",
          "text": [
            "animal Created\n",
            "dog created\n"
          ]
        }
      ]
    },
    {
      "cell_type": "code",
      "source": [
        "d.whoami()"
      ],
      "metadata": {
        "colab": {
          "base_uri": "https://localhost:8080/"
        },
        "id": "n19dzA31WHdH",
        "outputId": "2c883cae-e4fb-49d0-9d1b-ed0e17861543"
      },
      "execution_count": 32,
      "outputs": [
        {
          "output_type": "stream",
          "name": "stdout",
          "text": [
            "dog\n"
          ]
        }
      ]
    },
    {
      "cell_type": "code",
      "source": [
        "d.bark()"
      ],
      "metadata": {
        "colab": {
          "base_uri": "https://localhost:8080/"
        },
        "id": "IYOJXIRXWMbd",
        "outputId": "3bc88764-84ad-4c81-92c7-725aecdb256d"
      },
      "execution_count": 33,
      "outputs": [
        {
          "output_type": "stream",
          "name": "stdout",
          "text": [
            "woof\n"
          ]
        }
      ]
    },
    {
      "cell_type": "code",
      "source": [
        "d.eat()"
      ],
      "metadata": {
        "colab": {
          "base_uri": "https://localhost:8080/"
        },
        "id": "nsja6zwzXb1Q",
        "outputId": "34010379-3f57-4421-a2f3-11a284df5423"
      },
      "execution_count": 37,
      "outputs": [
        {
          "output_type": "stream",
          "name": "stdout",
          "text": [
            "eating\n"
          ]
        }
      ]
    },
    {
      "cell_type": "code",
      "source": [
        "# polymorphism"
      ],
      "metadata": {
        "id": "XPTmhciuXisD"
      },
      "execution_count": null,
      "outputs": []
    },
    {
      "cell_type": "code",
      "source": [
        "class Dog:\n",
        "  def __init__(self,name):\n",
        "    self.name=name\n",
        "\n",
        "  def speak(self):\n",
        "    return self.name+ ' says woof'\n",
        "\n",
        "class Cat:\n",
        "  def __init__(self,name):\n",
        "    self.name=name\n",
        "\n",
        "  def speak(self):\n",
        "    return self.name+  ' says Meow'\n",
        "\n",
        "\n",
        "husky=Dog(\"Husky\")\n",
        "felix=Cat(\"Felix\")\n",
        "\n",
        "husky.speak()\n",
        "felix.speak()\n",
        "\n"
      ],
      "metadata": {
        "colab": {
          "base_uri": "https://localhost:8080/",
          "height": 36
        },
        "id": "e470vPdTXypZ",
        "outputId": "d5a5bb6c-0154-4a9c-b916-46205478856b"
      },
      "execution_count": 57,
      "outputs": [
        {
          "output_type": "execute_result",
          "data": {
            "text/plain": [
              "'Felix says Meow'"
            ],
            "application/vnd.google.colaboratory.intrinsic+json": {
              "type": "string"
            }
          },
          "metadata": {},
          "execution_count": 57
        }
      ]
    },
    {
      "cell_type": "code",
      "source": [
        "husky.speak()"
      ],
      "metadata": {
        "colab": {
          "base_uri": "https://localhost:8080/",
          "height": 36
        },
        "id": "eG4lMNRZZtBy",
        "outputId": "9d565868-0fc3-4d59-b31b-4f45eeec5e9c"
      },
      "execution_count": 58,
      "outputs": [
        {
          "output_type": "execute_result",
          "data": {
            "text/plain": [
              "'Husky says woof'"
            ],
            "application/vnd.google.colaboratory.intrinsic+json": {
              "type": "string"
            }
          },
          "metadata": {},
          "execution_count": 58
        }
      ]
    },
    {
      "cell_type": "code",
      "source": [
        "for pet in [husky,felix]:\n",
        "  print(pet.speak())"
      ],
      "metadata": {
        "colab": {
          "base_uri": "https://localhost:8080/"
        },
        "id": "Fyv_wzIwdH8o",
        "outputId": "ccfd1ddd-6e25-4566-aea3-da956734d8ef"
      },
      "execution_count": 60,
      "outputs": [
        {
          "output_type": "stream",
          "name": "stdout",
          "text": [
            "Husky says woof\n",
            "Felix says Meow\n"
          ]
        }
      ]
    },
    {
      "cell_type": "code",
      "source": [
        "def pet_speak(pet):\n",
        "  print(pet.speak())\n",
        "\n",
        "pet_speak(husky)\n",
        "pet_speak(felix)"
      ],
      "metadata": {
        "colab": {
          "base_uri": "https://localhost:8080/"
        },
        "id": "uCpA2-X8aIXV",
        "outputId": "d1d3b095-1202-4f39-9512-b573ddffbefa"
      },
      "execution_count": 59,
      "outputs": [
        {
          "output_type": "stream",
          "name": "stdout",
          "text": [
            "Husky says woof\n",
            "Felix says Meow\n"
          ]
        }
      ]
    },
    {
      "cell_type": "code",
      "source": [
        "class Animal:\n",
        "  def __init__(self,name):\n",
        "    self.name=name\n",
        "\n",
        "  def speak(self):\n",
        "    raise NotImplementedError('subclass must implement abstract methd')\n",
        "\n",
        "class Dog(Animal):\n",
        "  def __init__(self,name):\n",
        "    self.name=name\n",
        "\n",
        "  def speak(self):\n",
        "    return self.name+ ' says woof'\n",
        "\n",
        "class Cat(Animal):\n",
        "  def __init__(self,name):\n",
        "    self.name=name\n",
        "\n",
        "  def speak(self):\n",
        "    return self.name+  ' says Meow'\n",
        "\n",
        "\n",
        "husky=Dog(\"Husky\")\n",
        "felix=Cat(\"Felix\")\n",
        "\n",
        "print(husky.speak())\n",
        "print(felix.speak())\n"
      ],
      "metadata": {
        "colab": {
          "base_uri": "https://localhost:8080/"
        },
        "id": "9hP2MBMYeH1l",
        "outputId": "c7d59d3f-b106-4013-a67a-2ba6d793e3fb"
      },
      "execution_count": 64,
      "outputs": [
        {
          "output_type": "stream",
          "name": "stdout",
          "text": [
            "Husky says woof\n",
            "Felix says Meow\n"
          ]
        }
      ]
    },
    {
      "cell_type": "code",
      "source": [],
      "metadata": {
        "id": "CGu_-Ef5gyab"
      },
      "execution_count": null,
      "outputs": []
    }
  ]
}